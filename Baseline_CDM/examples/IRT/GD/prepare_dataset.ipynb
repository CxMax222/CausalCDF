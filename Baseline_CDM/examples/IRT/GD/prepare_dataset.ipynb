{
 "cells": [
  {
   "cell_type": "code",
   "execution_count": 1,
   "outputs": [
    {
     "name": "stderr",
     "output_type": "stream",
     "text": [
      "downloader, INFO ..\\..\\..\\data\\a0910\\item.csv already exists. Send resume request after 258118 bytes\n",
      "downloader, INFO http://base.ustc.edu.cn/data/cdbd/a0910/item.csv is saved as ..\\..\\..\\data\\a0910\\item.csv\n",
      "downloader, WARNING Range not support. Redownloading...\n",
      "downloader, INFO ..\\..\\..\\data\\a0910\\test.csv already exists. Send resume request after 810767 bytes\n",
      "downloader, INFO http://base.ustc.edu.cn/data/cdbd/a0910/test.csv is saved as ..\\..\\..\\data\\a0910\\test.csv\n",
      "downloader, WARNING Range not support. Redownloading...\n",
      "downloader, INFO ..\\..\\..\\data\\a0910\\train.csv already exists. Send resume request after 2329161 bytes\n",
      "downloader, INFO http://base.ustc.edu.cn/data/cdbd/a0910/train.csv is saved as ..\\..\\..\\data\\a0910\\train.csv\n",
      "downloader, WARNING Range not support. Redownloading...\n",
      "downloader, INFO ..\\..\\..\\data\\a0910\\valid.csv already exists. Send resume request after 371493 bytes\n",
      "downloader, INFO http://base.ustc.edu.cn/data/cdbd/a0910/valid.csv is saved as ..\\..\\..\\data\\a0910\\valid.csv\n",
      "downloader, WARNING Range not support. Redownloading...\n"
     ]
    },
    {
     "name": "stdout",
     "output_type": "stream",
     "text": [
      "Downloading 100.00% : 376832 | 37149361"
     ]
    },
    {
     "data": {
      "text/plain": "'../../../data'"
     },
     "execution_count": 1,
     "metadata": {},
     "output_type": "execute_result"
    }
   ],
   "source": [
    "# Download the Cognitive Diagnosis Benchmark Datasets (CDBD)\n",
    "from EduData import get_data\n",
    "\n",
    "get_data(\"cdbd-a0910\", \"../../../data\")\n"
   ],
   "metadata": {
    "collapsed": false,
    "pycharm": {
     "name": "#%%\n"
    }
   }
  }
 ],
 "metadata": {
  "kernelspec": {
   "display_name": "Python 3",
   "language": "python",
   "name": "python3"
  },
  "language_info": {
   "codemirror_mode": {
    "name": "ipython",
    "version": 2
   },
   "file_extension": ".py",
   "mimetype": "text/x-python",
   "name": "python",
   "nbconvert_exporter": "python",
   "pygments_lexer": "ipython2",
   "version": "2.7.6"
  }
 },
 "nbformat": 4,
 "nbformat_minor": 0
}